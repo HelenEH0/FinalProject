{
 "cells": [
  {
   "cell_type": "code",
   "execution_count": 1,
   "id": "adb6c6ab",
   "metadata": {},
   "outputs": [
    {
     "ename": "SyntaxError",
     "evalue": "invalid character '“' (U+201C) (streamlit.py, line 2)",
     "output_type": "error",
     "traceback": [
      "Traceback \u001b[1;36m(most recent call last)\u001b[0m:\n",
      "  File \u001b[0;32m\"C:\\Users\\HP\\anaconda3\\lib\\site-packages\\IPython\\core\\interactiveshell.py\"\u001b[0m, line \u001b[0;32m3457\u001b[0m, in \u001b[0;35mrun_code\u001b[0m\n    exec(code_obj, self.user_global_ns, self.user_ns)\n",
      "\u001b[1;36m  File \u001b[1;32m\"C:\\Users\\HP\\AppData\\Local\\Temp\\ipykernel_8800\\2393680722.py\"\u001b[1;36m, line \u001b[1;32m4\u001b[1;36m, in \u001b[1;35m<module>\u001b[1;36m\u001b[0m\n\u001b[1;33m    import streamlit as st\u001b[0m\n",
      "\u001b[1;36m  File \u001b[1;32m\"D:\\S8IE\\Project-2\\streamlit.py\"\u001b[1;36m, line \u001b[1;32m2\u001b[0m\n\u001b[1;33m    st.title(“Welcome to Evoke Technologies”)\u001b[0m\n\u001b[1;37m             ^\u001b[0m\n\u001b[1;31mSyntaxError\u001b[0m\u001b[1;31m:\u001b[0m invalid character '“' (U+201C)\n"
     ]
    }
   ],
   "source": [
    "import pandas as pd\n",
    "import numpy as np\n",
    "import seaborn as sns\n",
    "import streamlit as st\n",
    "import matplotlib.pyplot as plt\n",
    "import pickle\n",
    "from sklearn import metrics"
   ]
  },
  {
   "cell_type": "code",
   "execution_count": null,
   "id": "18abaa83",
   "metadata": {},
   "outputs": [],
   "source": [
    "cancerData = pd.read_excel(\"cancer patient data sets.xlsx\")"
   ]
  },
  {
   "cell_type": "code",
   "execution_count": null,
   "id": "06998a35",
   "metadata": {},
   "outputs": [],
   "source": [
    "cancerData"
   ]
  },
  {
   "cell_type": "code",
   "execution_count": null,
   "id": "bc49130d",
   "metadata": {},
   "outputs": [],
   "source": [
    "cancerData.info()"
   ]
  },
  {
   "cell_type": "code",
   "execution_count": null,
   "id": "de272810",
   "metadata": {},
   "outputs": [],
   "source": [
    "cancerData.describe()"
   ]
  },
  {
   "cell_type": "code",
   "execution_count": null,
   "id": "c4328da4",
   "metadata": {},
   "outputs": [],
   "source": [
    "cancerData['Level'].value_counts()"
   ]
  },
  {
   "cell_type": "code",
   "execution_count": null,
   "id": "9c840304",
   "metadata": {},
   "outputs": [],
   "source": [
    "cancerDataCorr = cancerData.corr()\n",
    "mask=np.triu(np.ones_like(cancerData.corr()))\n",
    "fig,ax = plt.subplots(figsize = (20,20))\n",
    "sns.heatmap(cancerDataCorr,cmap=\"YlGnBu\",annot = True,mask=mask)"
   ]
  },
  {
   "cell_type": "code",
   "execution_count": null,
   "id": "5ae008a7",
   "metadata": {},
   "outputs": [],
   "source": [
    "cancerData.hist(bins = 100,figsize = (20,20))\n",
    "plt.show()"
   ]
  },
  {
   "cell_type": "code",
   "execution_count": null,
   "id": "cfe99822",
   "metadata": {},
   "outputs": [],
   "source": [
    "fig, ax = plt.subplots()\n",
    "hist = ax.hist(x = cancerData[\"Age\"])"
   ]
  },
  {
   "cell_type": "code",
   "execution_count": null,
   "id": "58cf02b5",
   "metadata": {},
   "outputs": [],
   "source": [
    "fig, ax = plt.subplots()\n",
    "plot = sns.countplot(data = cancerData, x='Level', hue='Gender', palette=['gold','green'])"
   ]
  },
  {
   "cell_type": "code",
   "execution_count": null,
   "id": "fa588b56",
   "metadata": {},
   "outputs": [],
   "source": [
    "from sklearn.preprocessing import LabelEncoder\n",
    "le = LabelEncoder()\n",
    "cancerData['Level']=le.fit_transform(cancerData['Level'])"
   ]
  },
  {
   "cell_type": "code",
   "execution_count": null,
   "id": "710cc6f4",
   "metadata": {},
   "outputs": [],
   "source": [
    "le.classes_"
   ]
  },
  {
   "cell_type": "code",
   "execution_count": null,
   "id": "90b79dbb",
   "metadata": {},
   "outputs": [],
   "source": [
    "cancerData"
   ]
  },
  {
   "cell_type": "markdown",
   "id": "1fe4056a",
   "metadata": {},
   "source": [
    "ML model\n"
   ]
  },
  {
   "cell_type": "markdown",
   "id": "4020a8b5",
   "metadata": {},
   "source": [
    "SVM"
   ]
  },
  {
   "cell_type": "code",
   "execution_count": null,
   "id": "38c85d64",
   "metadata": {},
   "outputs": [],
   "source": [
    "from sklearn.metrics import (accuracy_score,classification_report,\n",
    "confusion_matrix,precision_score,f1_score,recall_score,roc_auc_score,auc,precision_recall_curve,precision_score)"
   ]
  },
  {
   "cell_type": "code",
   "execution_count": null,
   "id": "1cb4b43a",
   "metadata": {},
   "outputs": [],
   "source": [
    "importantFeatures = ['Alcohol use','Fatigue','Obesity','Passive Smoker',\n",
    "                     'Air Pollution','Dry Cough','Coughing of Blood','Shortness of Breath']\n",
    "cancerDataNew = cancerData[importantFeatures]\n",
    "cancerDataNew.head()"
   ]
  },
  {
   "cell_type": "code",
   "execution_count": null,
   "id": "a1271168",
   "metadata": {},
   "outputs": [],
   "source": [
    "from sklearn.model_selection import train_test_split\n",
    "y = cancerData[['Level']]\n",
    "x_train,x_test,y_train,y_test = train_test_split(cancerDataNew,y,test_size = 0.25)"
   ]
  },
  {
   "cell_type": "code",
   "execution_count": null,
   "id": "8a5afff9",
   "metadata": {},
   "outputs": [],
   "source": [
    "from sklearn.svm import LinearSVC\n",
    "SVC = LinearSVC()\n",
    "SVC.fit(x_train,y_train)\n",
    "y_pred_svm = SVC.predict(x_test)\n",
    "print(y_pred_svm)"
   ]
  },
  {
   "cell_type": "code",
   "execution_count": null,
   "id": "d9cf0085",
   "metadata": {},
   "outputs": [],
   "source": [
    "SVCAccuracy = accuracy_score(y_test,y_pred_svm)\n",
    "print(\"Accuracy : \",accuracy_score(y_test,y_pred_svm),\"\\n\")\n",
    "print(\"Classification Report : \\n\",classification_report(y_test,y_pred_svm))\n",
    "print(\"Confusion Matrix : \\n\",confusion_matrix(y_test,y_pred_svm),\"\\n\")\n",
    "print(\"Precision Score : \",precision_score(y_test,y_pred_svm,average = None),\"\\n\")\n",
    "print(\"Recall Score : \",recall_score(y_test,y_pred_svm,average = None),\"\\n\")\n",
    "print(\"F1 Score : \",f1_score(y_test,y_pred_svm,average = None),\"\\n\")"
   ]
  },
  {
   "cell_type": "markdown",
   "id": "6175090d",
   "metadata": {},
   "source": [
    "Decision Tree ML\n"
   ]
  },
  {
   "cell_type": "code",
   "execution_count": null,
   "id": "1fb7206e",
   "metadata": {},
   "outputs": [],
   "source": [
    "from sklearn.tree import DecisionTreeClassifier\n",
    "DC = DecisionTreeClassifier()\n",
    "DC.fit(x_train,y_train)\n",
    "y_pred_dc= DC.predict(x_test)\n",
    "print\n",
    "DCAccuracy = accuracy_score(y_test,y_pred_dc)\n",
    "print(\"Accuracy : \",accuracy_score(y_test,y_pred_dc),\"\\n\")\n",
    "print(\"Classification Report : \\n\",classification_report(y_test,y_pred_dc))\n",
    "print(\"Confusion Matrix : \\n\",confusion_matrix(y_test,y_pred_dc),\"\\n\")\n",
    "print(\"Precision Score : \",precision_score(y_test,y_pred_dc,average = None),\"\\n\")\n",
    "print(\"Recall Score : \",recall_score(y_test,y_pred_dc,average = None),\"\\n\")\n",
    "print(\"F1 Score : \",f1_score(y_test,y_pred_dc,average = None),\"\\n\")\n"
   ]
  },
  {
   "cell_type": "code",
   "execution_count": null,
   "id": "aa5919de",
   "metadata": {},
   "outputs": [],
   "source": [
    "from sklearn.ensemble import RandomForestClassifier\n",
    "RF = RandomForestClassifier()\n",
    "RF.fit(x_train,y_train)\n",
    "y_pred_rf = RF.predict(x_test)"
   ]
  },
  {
   "cell_type": "code",
   "execution_count": null,
   "id": "13fcf448",
   "metadata": {},
   "outputs": [],
   "source": [
    "RFAccuracy = accuracy_score(y_test,y_pred_rf)\n",
    "print(\"Accuracy : \",accuracy_score(y_test,y_pred_rf),\"\\n\")\n",
    "print(\"Classification Report : \\n\",classification_report(y_test,y_pred_rf))\n",
    "print(\"Confusion Matrix : \\n\",confusion_matrix(y_test,y_pred_rf),\"\\n\")\n",
    "print(\"Precision Score : \",precision_score(y_test,y_pred_rf,average = None),\"\\n\")\n",
    "print(\"Recall Score : \",recall_score(y_test,y_pred_rf,average = None),\"\\n\")\n",
    "print(\"F1 Score : \",f1_score(y_test,y_pred_rf,average = None),\"\\n\")"
   ]
  },
  {
   "cell_type": "code",
   "execution_count": null,
   "id": "0d31a9ca",
   "metadata": {},
   "outputs": [],
   "source": [
    "from sklearn.linear_model import LogisticRegression\n",
    "from sklearn.metrics import classification_report\n",
    "regg = LogisticRegression(random_state = 4)\n",
    "regg.fit(x_train,y_train)\n",
    "y_pred_LR = regg.predict(x_test)\n",
    "print('Accuracy: {}'.format(regg.score(x_test, y_test)))\n",
    "print(classification_report(y_test, y_pred_LR))"
   ]
  },
  {
   "cell_type": "code",
   "execution_count": 2,
   "id": "a9d27571",
   "metadata": {},
   "outputs": [],
   "source": [
    "import pickle"
   ]
  },
  {
   "cell_type": "code",
   "execution_count": 3,
   "id": "1d71f523",
   "metadata": {},
   "outputs": [
    {
     "ename": "NameError",
     "evalue": "name 'RF' is not defined",
     "output_type": "error",
     "traceback": [
      "\u001b[1;31m---------------------------------------------------------------------------\u001b[0m",
      "\u001b[1;31mNameError\u001b[0m                                 Traceback (most recent call last)",
      "\u001b[1;32m~\\AppData\\Local\\Temp\\ipykernel_8800\\2541285575.py\u001b[0m in \u001b[0;36m<module>\u001b[1;34m\u001b[0m\n\u001b[0;32m      1\u001b[0m \u001b[0mfilename\u001b[0m \u001b[1;33m=\u001b[0m \u001b[1;34m\"trained_model.sav\"\u001b[0m\u001b[1;33m\u001b[0m\u001b[1;33m\u001b[0m\u001b[0m\n\u001b[1;32m----> 2\u001b[1;33m \u001b[0mpickle\u001b[0m\u001b[1;33m.\u001b[0m\u001b[0mdump\u001b[0m\u001b[1;33m(\u001b[0m\u001b[0mRF\u001b[0m\u001b[1;33m,\u001b[0m\u001b[0mopen\u001b[0m\u001b[1;33m(\u001b[0m\u001b[0mfilename\u001b[0m\u001b[1;33m,\u001b[0m\u001b[1;34m'wb'\u001b[0m\u001b[1;33m)\u001b[0m\u001b[1;33m)\u001b[0m\u001b[1;33m\u001b[0m\u001b[1;33m\u001b[0m\u001b[0m\n\u001b[0m",
      "\u001b[1;31mNameError\u001b[0m: name 'RF' is not defined"
     ]
    }
   ],
   "source": [
    "filename = \"trained_model.sav\"\n",
    "pickle.dump(RF,open(filename,'wb'))"
   ]
  },
  {
   "cell_type": "code",
   "execution_count": null,
   "id": "63ac553e",
   "metadata": {},
   "outputs": [],
   "source": []
  }
 ],
 "metadata": {
  "kernelspec": {
   "display_name": "Python 3 (ipykernel)",
   "language": "python",
   "name": "python3"
  },
  "language_info": {
   "codemirror_mode": {
    "name": "ipython",
    "version": 3
   },
   "file_extension": ".py",
   "mimetype": "text/x-python",
   "name": "python",
   "nbconvert_exporter": "python",
   "pygments_lexer": "ipython3",
   "version": "3.9.13"
  }
 },
 "nbformat": 4,
 "nbformat_minor": 5
}
